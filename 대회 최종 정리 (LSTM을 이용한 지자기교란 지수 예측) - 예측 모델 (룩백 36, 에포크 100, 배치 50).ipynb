{
 "cells": [
  {
   "cell_type": "code",
   "execution_count": 1,
   "metadata": {},
   "outputs": [],
   "source": [
    "# 최종 데이터 읽어오기 (변수 5개 (Np, Vp, Bz, Bt, Bl)만 남긴 combine)\n",
    "\n",
    "import numpy as np\n",
    "import pandas as pd\n",
    "\n",
    "np.random.seed(5)\n",
    "\n",
    "path='C:\\Projects\\keras_talk\\comp_model_data\\\\'\n",
    "\n",
    "combine_data = pd.read_csv(path + 'combine_interpolation_an.csv', engine='python') \n",
    "\n",
    "kp_data = pd.read_csv(path + 'kp_data.csv') # 지자기교란 지수 파일에서 index부분 없애고 kp_data로 이름 바꿈"
   ]
  },
  {
   "cell_type": "code",
   "execution_count": 2,
   "metadata": {},
   "outputs": [
    {
     "name": "stderr",
     "output_type": "stream",
     "text": [
      "Using TensorFlow backend.\n"
     ]
    }
   ],
   "source": [
    "from keras.models import Sequential\n",
    "from keras.layers import Dense, LSTM\n",
    "from sklearn.preprocessing import MinMaxScaler"
   ]
  },
  {
   "cell_type": "code",
   "execution_count": 3,
   "metadata": {},
   "outputs": [],
   "source": [
    "def create_dataset(signal_data, result_data, look_back):\n",
    "    dataX, dataY = [], []\n",
    "    for i in range(0, len(signal_data)-24, 12): \n",
    "        dataX.append(signal_data[i:(i+look_back)]) # look_back = 36 단위로 9시간씩 끊어짐 - [0:48],[48:96],...\n",
    "    for j in range(0, len(result_data)):\n",
    "        for k in range(0, 8):\n",
    "            dataY.append(result_data[j][k]) # kp지수 데이터의 하나 하나를 뽑아내어 9시간의 combine 데이터와 대응시킴\n",
    "    return np.array(dataX), np.array(dataY)\n",
    "\n",
    "look_back = 36"
   ]
  },
  {
   "cell_type": "code",
   "execution_count": 4,
   "metadata": {},
   "outputs": [],
   "source": [
    "# 1. 데이터셋 생성하기\n",
    "\n",
    "signal_data = combine_data.values\n",
    "result_data = kp_data.values\n",
    "\n",
    "x_train = signal_data[0:385728] # 2920*12*11 + 96*3 (00,04,08년 윤년) = 385536 (99~09년까지의 데이터를 train으로)\n",
    "x_val = signal_data[385728:455808] # 2920*12*2=70080 (10~11년까지의 데이터를 val으로)\n",
    "x_test = signal_data[455808:] # 2920*12*2=70080 (12~13년까지의 데이터를 test으로)\n",
    "\n",
    "y_train = result_data[0:4018] # 99~09년도\n",
    "y_val = result_data[4018:4748] # 10~11년도\n",
    "y_test = result_data[4748:] # 12~13년도\n",
    "\n",
    "# 데이터셋 생성\n",
    "\n",
    "x_train, y_train = create_dataset(x_train, y_train, look_back)\n",
    "x_val, y_val = create_dataset(x_val, y_val, look_back)\n",
    "x_test, y_test = create_dataset(x_test, y_test, look_back)\n",
    "\n",
    "y_train = y_train[2:]\n",
    "y_val = y_val[2:]\n",
    "y_test = y_test[2:]"
   ]
  },
  {
   "cell_type": "code",
   "execution_count": 5,
   "metadata": {},
   "outputs": [],
   "source": [
    "# 데이터셋 전처리 (RNN은 3차원으로 처리를 해야 한다고 함)\n",
    "# 변수 5개 (Np, Vp, Bz, Bt, Bl)\n",
    "\n",
    "x_train = x_train.reshape(x_train.shape[0], x_train.shape[1], 5) # (number, timestep, feature)\n",
    "x_val = x_val.reshape(x_val.shape[0], x_val.shape[1], 5)\n",
    "x_test = x_test.reshape(x_test.shape[0], x_test.shape[1], 5)"
   ]
  },
  {
   "cell_type": "code",
   "execution_count": 6,
   "metadata": {},
   "outputs": [],
   "source": [
    "# 원핫 인코딩 (어떤 값을 리스트 내에 0,1로 표시하는 벡터로 표현하도록 함, 예를 들어 3인 경우엔 [0,0,0,1,0,0,0,0,0,0]으로 표현됨)\n",
    "\n",
    "from keras.utils import to_categorical\n",
    "\n",
    "size = 10\n",
    "\n",
    "y_train = to_categorical(y_train, num_classes=size)\n",
    "y_val = to_categorical(y_val, num_classes=size)\n",
    "y_test = to_categorical(y_test, num_classes=size)"
   ]
  },
  {
   "cell_type": "code",
   "execution_count": null,
   "metadata": {},
   "outputs": [],
   "source": [
    "# 2. 모델 구성하기\n",
    "\n",
    "from keras.optimizers import Adam\n",
    "\n",
    "Optimizer = Adam(lr = 0.001)\n",
    "\n",
    "model = Sequential()\n",
    "model.add(LSTM(48,input_shape=(36,5)))\n",
    "model.add(Dense(32, activation='relu'))\n",
    "model.add(Dense(10, activation='softmax'))\n",
    "\n",
    "# 3. 모델 학습과정 설정하기\n",
    "\n",
    "model.compile(loss='mean_squared_error', optimizer=Optimizer, metrics=['accuracy'])\n",
    "\n",
    "# 4. 모델 학습시키기\n",
    "hist = model.fit(x_train, y_train, epochs=100, batch_size=50, validation_data=(x_val, y_val))"
   ]
  },
  {
   "cell_type": "code",
   "execution_count": 11,
   "metadata": {},
   "outputs": [
    {
     "name": "stdout",
     "output_type": "stream",
     "text": [
      "Train Score:  [0.24498934890729743, 0.44343850016593933]\n",
      "Validataion Score:  [0.25411573521034814, 0.4095580577850342]\n",
      "Test Score:  [0.24325858176345905, 0.4556961953639984]\n"
     ]
    }
   ],
   "source": [
    "# 5. 모델 평가하기\n",
    "\n",
    "trainScore = model.evaluate(x_train, y_train, verbose=0)\n",
    "model.reset_states()\n",
    "print('Train Score: ', trainScore)\n",
    "valScore = model.evaluate(x_val, y_val, verbose=0)\n",
    "model.reset_states()\n",
    "print('Validataion Score: ', valScore)\n",
    "testScore = model.evaluate(x_test, y_test, verbose=0)\n",
    "model.reset_states()\n",
    "print('Test Score: ', testScore)"
   ]
  },
  {
   "cell_type": "code",
   "execution_count": 53,
   "metadata": {},
   "outputs": [],
   "source": [
    "# 6. 모델 사용하기\n",
    "\n",
    "path='C:\\Projects\\keras_talk\\comp_model_data\\\\'\n",
    "\n",
    "# 룩백 12일때는 학습 데이터가 한 셀에 3시간치만 있게 되는데 \n",
    "# 룩백 36일때는 학습 데이터가 한 셀에 9시간치가 있어서 그것에 맞게 문제 데이터를 create_dataset으로 한 번 더 처리\n",
    "# 반대로 룩백 12일때는 그게 기본 설정이라 문제 데이터를 굳이 처리할 필요가 없었던 것\n",
    "\n",
    "def create_dataset(signal_data,look_back):\n",
    "    dataX = []\n",
    "    for i in range(0, len(signal_data)-24, 12): # look_back = 36 단위로 9시간씩 끊어짐\n",
    "        dataX.append(signal_data[i:(i+look_back)]) # [0:48],[48:96],...\n",
    "    return np.array(dataX)\n",
    "\n",
    "look_back = 36\n",
    "\n",
    "# 룩백이 36, 즉 9시간 뒤부터 보는 거라서 원래 problem_interpolation1 파일의 맨 앞에 전년도 마지막 6시간 데이터를 엑셀로 직접 덧붙임\n",
    "# 그렇게 problem_interpolation3를 만듦\n",
    "\n",
    "xhat = pd.read_csv(path + 'problem_interpolation3.csv', engine='python')\n",
    "\n",
    "input_data = xhat.values\n",
    "\n",
    "input_data = create_dataset(input_data, look_back)\n",
    "\n",
    "#input_data = input_data.reshape(input_data.shape[0], input_data.shape[1], 1)\n",
    "\n",
    "#input_data = input_data.reshape(730, 12, 5) - 이 두 줄이 필요한지 안한지는 실행해봐야 알 것 같음.\n",
    "\n",
    "forecast_result = model.predict(input_data)"
   ]
  },
  {
   "cell_type": "code",
   "execution_count": 56,
   "metadata": {},
   "outputs": [],
   "source": [
    "# 예측한 kp지수를 엑셀로 다시 정리\n",
    "\n",
    "result = []\n",
    "\n",
    "for i in range(0,2920):\n",
    "    result.append(np.argmax(forecast_result[i]))\n",
    "\n",
    "final_result = []\n",
    "\n",
    "for i in range(0, len(result), 8):\n",
    "    final_result.append(result[i:i+8])\n",
    "\n",
    "kp_0h = []\n",
    "kp_3h = []\n",
    "kp_6h = []\n",
    "kp_9h = []\n",
    "kp_12h = []\n",
    "kp_15h = []\n",
    "kp_18h = []\n",
    "kp_21h = []\n",
    "\n",
    "for i in range(0, len(final_result)):\n",
    "    kp_0h.append(final_result[i][0])\n",
    "    kp_3h.append(final_result[i][1])\n",
    "    kp_6h.append(final_result[i][2])\n",
    "    kp_9h.append(final_result[i][3])\n",
    "    kp_12h.append(final_result[i][4])\n",
    "    kp_15h.append(final_result[i][5])\n",
    "    kp_18h.append(final_result[i][6])\n",
    "    kp_21h.append(final_result[i][7])\n",
    "\n",
    "from collections import OrderedDict\n",
    "\n",
    "raw_data = OrderedDict()\n",
    "raw_data['kp_0h'] = kp_0h\n",
    "raw_data['kp_3h'] = kp_3h\n",
    "raw_data['kp_6h'] = kp_6h\n",
    "raw_data['kp_9h'] = kp_9h\n",
    "raw_data['kp_12h'] = kp_12h\n",
    "raw_data['kp_15h'] = kp_15h\n",
    "raw_data['kp_18h'] = kp_18h\n",
    "raw_data['kp_21h'] = kp_21h\n",
    "\n",
    "kp_predict = pd.DataFrame(raw_data)\n",
    "\n",
    "kp_predict.to_csv('./kp_predict.csv', index=False)"
   ]
  },
  {
   "cell_type": "code",
   "execution_count": null,
   "metadata": {},
   "outputs": [],
   "source": []
  }
 ],
 "metadata": {
  "kernelspec": {
   "display_name": "Python 3",
   "language": "python",
   "name": "python3"
  },
  "language_info": {
   "codemirror_mode": {
    "name": "ipython",
    "version": 3
   },
   "file_extension": ".py",
   "mimetype": "text/x-python",
   "name": "python",
   "nbconvert_exporter": "python",
   "pygments_lexer": "ipython3",
   "version": "3.7.4"
  }
 },
 "nbformat": 4,
 "nbformat_minor": 2
}
